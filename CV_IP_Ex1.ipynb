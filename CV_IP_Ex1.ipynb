{
 "cells": [
  {
   "cell_type": "markdown",
   "metadata": {},
   "source": [
    "# Ex_1"
   ]
  },
  {
   "cell_type": "code",
   "execution_count": null,
   "metadata": {},
   "outputs": [],
   "source": [
    "import numpy as np\n",
    "import cv2\n",
    "import matplotlib.pyplot as plt\n",
    "\n",
    "LOAD_GRAY_SCALE = 1\n",
    "LOAD_RGB = 2"
   ]
  },
  {
   "cell_type": "markdown",
   "metadata": {},
   "source": [
    "# imReadAndConvert "
   ]
  },
  {
   "cell_type": "code",
   "execution_count": null,
   "metadata": {},
   "outputs": [],
   "source": [
    "def imReadAndConvert(filename:str, representation:int)->np.ndarray:\n",
    "    if representation == LOAD_GRAY_SCALE:\n",
    "        img = cv2.imread(filename,0)\n",
    "        norm_img = normalize(img)\n",
    "    elif representation == LOAD_RGB:\n",
    "        img = cv2.imread(filename)\n",
    "        img_rgb = cv2.cvtColor(img,cv2.COLOR_BGR2RGB)\n",
    "        norm_img = normalize(img_rgb)\n",
    "    return norm_img\n",
    "\n",
    "def normalize(img):\n",
    "    norm_img = norm_image = cv2.normalize(img, None, alpha=0, beta=1, norm_type=cv2.NORM_MINMAX, dtype=cv2.CV_32F)\n",
    "    return norm_img\n",
    "\n",
    "def unnormalize(img):\n",
    "    norm_img = norm_image = cv2.normalize(img, None, alpha=0, beta=255, norm_type=cv2.NORM_MINMAX)\n",
    "    return norm_img.astype('uint32')"
   ]
  },
  {
   "cell_type": "markdown",
   "metadata": {},
   "source": [
    "# imDisplay - Disply the image using matplotlib"
   ]
  },
  {
   "cell_type": "code",
   "execution_count": null,
   "metadata": {},
   "outputs": [],
   "source": [
    "def imDisplay(filename: str, representation: int):\n",
    "    \"\"\"\n",
    "    Reads an image as RGB or GRAY_SCALE and displays it\n",
    "    :param filename: The path to the image\n",
    "    :param representation: GRAY_SCALE or RGB\n",
    "    :return: None\n",
    "    \"\"\"\n",
    "    img = imReadAndConvert(filename,representation)\n",
    "    plt.imshow(img,cmap='gray')\n",
    "    plt.show()"
   ]
  }
 ],
 "metadata": {
  "kernelspec": {
   "display_name": "Python 3",
   "language": "python",
   "name": "python3"
  },
  "language_info": {
   "codemirror_mode": {
    "name": "ipython",
    "version": 3
   },
   "file_extension": ".py",
   "mimetype": "text/x-python",
   "name": "python",
   "nbconvert_exporter": "python",
   "pygments_lexer": "ipython3",
   "version": "3.8.2"
  }
 },
 "nbformat": 4,
 "nbformat_minor": 4
}
